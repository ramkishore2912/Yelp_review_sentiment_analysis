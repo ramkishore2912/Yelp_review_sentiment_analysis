{
 "cells": [
  {
   "cell_type": "code",
   "execution_count": 4,
   "id": "3e0fe18a-5f14-4bb6-b028-a94ceb39e7ca",
   "metadata": {},
   "outputs": [
    {
     "name": "stdout",
     "output_type": "stream",
     "text": [
      "Total lines: 6990280, Lines per file: 279611\n",
      "✅ JSON file successfully split into smaller parts!\n"
     ]
    }
   ],
   "source": [
    "import json\n",
    " \n",
    "input_file = \"yelp_academic_dataset_review.json\"  # Your 5GB JSON file\n",
    "output_prefix = \"split_file_\"  # Prefix for output files\n",
    "num_files = 25  # Number of files to split into\n",
    " \n",
    " # Count total lines (objects) in the file\n",
    "with open(input_file, \"r\" , encoding=\"utf8\") as f:\n",
    "     total_lines = sum(1 for _ in f)  \n",
    " \n",
    "lines_per_file = total_lines // num_files  # Lines per split file\n",
    " \n",
    "print(f\"Total lines: {total_lines}, Lines per file: {lines_per_file}\")\n",
    " \n",
    " # Now split into multiple smaller files\n",
    "with open(input_file, \"r\" , encoding=\"utf8\") as f:\n",
    "     for i in range(num_files):\n",
    "         output_filename = f\"{output_prefix}{i+1}.json\"\n",
    "         \n",
    "         with open(output_filename, \"w\", encoding=\"utf8\" ) as out_file:\n",
    "             for j in range(lines_per_file):\n",
    "                 line = f.readline()\n",
    "                 if not line:\n",
    "                     break  # Stop if file ends early\n",
    "                 out_file.write(line)\n",
    " \n",
    "print(\"✅ JSON file successfully split into smaller parts!\")"
   ]
  },
  {
   "cell_type": "code",
   "execution_count": null,
   "id": "50c42527-e927-4e0d-b66a-917e734ec491",
   "metadata": {},
   "outputs": [],
   "source": []
  },
  {
   "cell_type": "code",
   "execution_count": null,
   "id": "413a12f5-48f3-45d0-b916-814794c48074",
   "metadata": {},
   "outputs": [],
   "source": []
  }
 ],
 "metadata": {
  "kernelspec": {
   "display_name": "Python 3 (ipykernel)",
   "language": "python",
   "name": "python3"
  },
  "language_info": {
   "codemirror_mode": {
    "name": "ipython",
    "version": 3
   },
   "file_extension": ".py",
   "mimetype": "text/x-python",
   "name": "python",
   "nbconvert_exporter": "python",
   "pygments_lexer": "ipython3",
   "version": "3.12.5"
  }
 },
 "nbformat": 4,
 "nbformat_minor": 5
}
